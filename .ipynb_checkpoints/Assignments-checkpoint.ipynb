{
 "cells": [
  {
   "cell_type": "markdown",
   "id": "93263c66",
   "metadata": {},
   "source": [
    "# Assignment-1 (Python - Profit Calculator)\n",
    "\n",
    "Problem : If you had deposited a coin on the cryptocurrency \n",
    "exchange that brought 7% fixed profit daily for a week, how much \n",
    "would your $ 1000 reach at the end of the 7th day?"
   ]
  },
  {
   "cell_type": "code",
   "execution_count": 39,
   "id": "4556ca7d",
   "metadata": {},
   "outputs": [
    {
     "name": "stdout",
     "output_type": "stream",
     "text": [
      "earning_rate : 1.6057814764784306\n",
      "gain : 1605.7814764784307\n"
     ]
    }
   ],
   "source": [
    "depozit = 1000\n",
    "fixed_profit_daily = 0.07\n",
    "duration = 7\n",
    "\n",
    "earning_rate = (1 + fixed_profit_daily)**duration\n",
    "print(\"earning_rate :\", earning_rate)\n",
    "\n",
    "gain = depozit * earning_rate\n",
    "print(\"gain :\", gain)"
   ]
  },
  {
   "cell_type": "markdown",
   "id": "137c8105",
   "metadata": {},
   "source": [
    "# Assignment-2 (Python - Covid-19 Risk)\n",
    "\n",
    "Problem :\n",
    "Task : Estimating the risk of death from coronavirus.\n",
    "Consider the following questions in terms of True/False regarding someone else.\n",
    "Are you a cigarette addict older than 75 years old? Variable → age\n",
    "Do you have a severe chronic disease? Variable → chronic\n",
    "Is your immune system too weak? Variable → immune\n",
    "Set a logical algorithm using boolean logic operators (and/or) and the given variables in \n",
    "order to give us True (there is a risk of death) or False (there is not a risk of death) as a result."
   ]
  },
  {
   "cell_type": "code",
   "execution_count": 41,
   "id": "e1d3504f",
   "metadata": {},
   "outputs": [
    {
     "name": "stdout",
     "output_type": "stream",
     "text": [
      "Are you a cigarette addict older than 75 years old? (Yes:1, No:0): 11\n",
      "Do you have a severe chronic disease? (Yes:1 / No:0): 1\n",
      "Is your immune system too weak? (Yes:1 / No:0): 1\n",
      "True\n"
     ]
    }
   ],
   "source": [
    "age = bool(int(input(\"Are you a cigarette addict older than 75 years old? (Yes:1, No:0): \")))\n",
    "chronic = bool(int(input(\"Do you have a severe chronic disease? (Yes:1 / No:0): \")))\n",
    "immune = bool(int(input(\"Is your immune system too weak? (Yes:1 / No:0): \")))\n",
    "\n",
    "risk = age or chronic or immune\n",
    "\n",
    "print(risk)\n"
   ]
  },
  {
   "cell_type": "markdown",
   "id": "8a427199",
   "metadata": {},
   "source": [
    "# Assignment-3 (Python - Measure Converter)\n",
    "\n",
    "Task-1:\n",
    "Write a short Python program that asks the user to enter Celsius temperature (it can be a decimal number), \n",
    "converts the entered temperature into Fahrenheit degree and prints the result.\n",
    "Task-2:\n",
    "Write a short Python program that asks the user to enter a distance (it can be a decimal number) in kilometers, \n",
    "converts the entered distance into miles and prints the result."
   ]
  },
  {
   "cell_type": "code",
   "execution_count": 42,
   "id": "d3e1b603",
   "metadata": {},
   "outputs": [
    {
     "name": "stdout",
     "output_type": "stream",
     "text": [
      "Sicakligi Celsius Turunden Yaziniz: 35.1\n",
      "35.1C = 95.18F\n",
      "Mesafeyi Kilometre Turunden Yaziniz: 1\n",
      "1.0KM = 0.621371192Mil\n"
     ]
    }
   ],
   "source": [
    "celsius = float(input('Sicakligi Celsius Turunden Yaziniz: '))\n",
    "celsius_fahrenheit = 1.8 * celsius + 32\n",
    "print(f'{celsius}C = {celsius_fahrenheit}F')\n",
    "\n",
    "\n",
    "kilometer = float(input('Mesafeyi Kilometre Turunden Yaziniz: '))\n",
    "kilometer_mil = kilometer * 0.621371192\n",
    "print(f'{kilometer}KM = {kilometer_mil}Mil')"
   ]
  },
  {
   "cell_type": "markdown",
   "id": "f53b1c12",
   "metadata": {},
   "source": [
    "# Assignment-4 (Python - Boolean Truthy)\n",
    "\n",
    "Using the all following items once each, set a correct boolean expression that returns write me. Use the print() function to display the result.\n",
    "\n",
    "0 -\n",
    "and -\n",
    "not -\n",
    "\"write me\""
   ]
  },
  {
   "cell_type": "code",
   "execution_count": null,
   "id": "711a204a",
   "metadata": {},
   "outputs": [],
   "source": [
    "task = not 0 and 'write me'\n",
    "print(task)"
   ]
  },
  {
   "cell_type": "markdown",
   "id": "1f96c089",
   "metadata": {},
   "source": [
    "# Assignment-5 (Python - Leap Year)\n",
    "\n",
    "Task:\n",
    "Find out if a given year is a \"leap\" year.\n",
    "In the Gregorian calendar, three criteria must be taken into account to identify leap years:\n",
    "The year must be evenly divisible by 4;\n",
    "If the year can also be evenly divided by 100, it is not a leap year; unless...\n",
    "The year is also evenly divisible by 400. Then it is a leap year.\n",
    "According to these rules, the years 2000 and 2400 are leap years, while 1800, 1900, 2100, 2200, 2300, and 2500 are not the leap years.\n",
    "Write a Python program that;\n",
    "Takes a 4-digit year from the user,\n",
    "Prints True if the given year by the user is a leap year, prints False otherwise."
   ]
  },
  {
   "cell_type": "code",
   "execution_count": 44,
   "id": "f1d34fa4",
   "metadata": {},
   "outputs": [
    {
     "name": "stdout",
     "output_type": "stream",
     "text": [
      "Enter a year please: 2000\n",
      "True\n"
     ]
    }
   ],
   "source": [
    "year = int(input(\"Enter a year please: \"))\n",
    "\n",
    "leap = (year % 4 == 0) and (year % 100 != 0 or year % 400 == 0)\n",
    "\n",
    "print(leap)"
   ]
  },
  {
   "cell_type": "markdown",
   "id": "57efa835",
   "metadata": {},
   "source": [
    "# Assignment-6 (Python - The Most Frequent Element)\n",
    "Task : Find out the most frequent number and its frequency.\n",
    "Write a program that;\n",
    "\n",
    "Finds out the most frequent number in the given list.\n",
    "\n",
    "Calculates its frequency."
   ]
  },
  {
   "cell_type": "code",
   "execution_count": 48,
   "id": "5d615615",
   "metadata": {},
   "outputs": [
    {
     "name": "stdout",
     "output_type": "stream",
     "text": [
      "the most frequent number is 4 and it was 5 times repeated\n"
     ]
    }
   ],
   "source": [
    "numbers = [1, 3, 7, 4, 3, 0, 3, 6, 3, 4, 4, 4, 4]\n",
    "print(f'the most frequent number is {max(numbers, key = numbers.count)} and it was {numbers.count(max(numbers, key = numbers.count))} times repeated')"
   ]
  },
  {
   "cell_type": "markdown",
   "id": "01106697",
   "metadata": {},
   "source": [
    "# Assignment-7 (Python - Profit Calculation)\n",
    "Task - 1 :\n",
    "You work for a manufacturer as a programmer and have been asked to calculate the total profit made on the sales of a product. \n",
    "You are given a dictionary (sales) containing the cost price per unit (in dollars), sell price per unit (in dollars), and the \n",
    "beginning inventory. Write a program to return the total profit made, rounded to the nearest dollar. Assume all of the \n",
    "inventory has been sold. The name and the keys of the dictionary are constant, so use them as they are.\n",
    "\n",
    "Task - 2 :\n",
    "Your boss wants you to prepare the payrolls of the workers in your department. You have to convert the amount of dollars into payroll format. In order to help move things along, you have volunteered to write a code that will take a float and return the money in the following format (as dollars and cents). "
   ]
  },
  {
   "cell_type": "code",
   "execution_count": 18,
   "id": "f303a337",
   "metadata": {},
   "outputs": [
    {
     "name": "stdout",
     "output_type": "stream",
     "text": [
      "All of the inventory has been sold: 13130.0$\n",
      "Enter Amount: 25\n",
      "$ 25.00\n"
     ]
    }
   ],
   "source": [
    "# Task1\n",
    "sales = {\n",
    "  \"cost_value\": 31.87,\n",
    "  \"sell_value\": 45.00,\n",
    "  \"inventory\": 1000\n",
    "}  \n",
    "total = (sales['sell_value'] - sales['cost_value']) * sales['inventory']\n",
    "\n",
    "print(f\"All of the inventory has been sold: {round(total,0)}$\")\n",
    "\n",
    "# Task2\n",
    "\n",
    "given = float(input('Enter Amount: '))\n",
    "result = '$ %.2f' % given\n",
    "print(result)"
   ]
  },
  {
   "cell_type": "markdown",
   "id": "0f6b0a3c",
   "metadata": {},
   "source": [
    "# Assignment-8 (Python - Comfortable Words)\n",
    "Task : Find out if the given word is \"comfortable words\" in relation to the ten-finger keyboard use.\n",
    "\n",
    "A comfortable word is a word which you can type always alternating the hand you type with \n",
    "(assuming you type using a Q-keyboard and use of the ten-fingers standard).\n",
    "The word will always be a string consisting of only letters from a to z.\n",
    "Write a program which returns True if it's a comfortable word or False otherwise."
   ]
  },
  {
   "cell_type": "code",
   "execution_count": 16,
   "id": "b43a9b73",
   "metadata": {},
   "outputs": [
    {
     "name": "stdout",
     "output_type": "stream",
     "text": [
      "Enter Word: deer\n",
      "Your word is comfortable: False\n"
     ]
    }
   ],
   "source": [
    "left_hand = set('qwertasdfgzxcvb')\n",
    "right_hand = set('yuiophjklnm')\n",
    "word = input('Enter Word: ')\n",
    "\n",
    "result = left_hand.intersection(word)\n",
    "result1 = right_hand.intersection(word)\n",
    "\n",
    "if result and result1:\n",
    "    print('Your word is comfortable: True')\n",
    "else:\n",
    "    print('Your word is comfortable: False')"
   ]
  },
  {
   "cell_type": "code",
   "execution_count": 15,
   "id": "aefd87e6",
   "metadata": {},
   "outputs": [
    {
     "name": "stdout",
     "output_type": "stream",
     "text": [
      "Enter Word: apple\n",
      "True\n"
     ]
    }
   ],
   "source": [
    "left = set('qwertasdfgzxcvb')\n",
    "right = set('yuiophjklnm')\n",
    "word = input('Enter Word: ')\n",
    "\n",
    "left_check = bool(set(word).difference(left))\n",
    "right_check = bool(set(word).difference(right))\n",
    "\n",
    "print(left_check and right_check)"
   ]
  },
  {
   "cell_type": "markdown",
   "id": "48b0ca20",
   "metadata": {},
   "source": [
    "# Assignment-9 (Python - Password Reminder)\n",
    "Task : Let's say; you left a message in the past that prints a password you need. To see the password you wrote, you need to enter your name and the program should recognize you.\n",
    "Write a program that \n",
    "\n",
    "Takes the first name from the user and compares it to yours,\n",
    "Then if the name the user entered is the same as yours, print out such as : \"Hello, Joseph! The password is : W@12\",\n",
    "If the name the user entered is not the same as yours, print out such as : \"Hello, Amina! See you later.\""
   ]
  },
  {
   "cell_type": "code",
   "execution_count": 50,
   "id": "e23f10e1",
   "metadata": {},
   "outputs": [
    {
     "name": "stdout",
     "output_type": "stream",
     "text": [
      "Enter Your Name: halil             \n",
      "Hello Halil!\n",
      "Password: qwe_%454\n"
     ]
    }
   ],
   "source": [
    "name = 'Halil'\n",
    "\n",
    "if input('Enter Your Name: ').capitalize().strip() == name:\n",
    "    print('Hello Halil!\\nPassword: qwe_%454')\n",
    "else:\n",
    "    print('Hello, Guest! See you later.')"
   ]
  },
  {
   "cell_type": "markdown",
   "id": "e473b196",
   "metadata": {},
   "source": [
    "# Assignment-10 (Python - Covid-19 Risk with if Statements)\n",
    "Problem :\n",
    "\n",
    "Task : Estimating the risk of death from coronavirus. Write a program that;\n",
    "\n",
    "Takes \"Yes\" or \"No\" from the user as an answer to the following questions :\n",
    "\n",
    "Are you a cigarette addict older than 75 years old? Variable → age\n",
    "\n",
    "Do you have a severe chronic disease? Variable → chronic\n",
    "\n",
    "Is your immune system too weak? Variable → immune\n",
    "\n",
    "Set a logical algorithm using boolean logic operators (and/or) and use if-statements with the given variables in order to print out us a message : \"You are in risky group\"(if True ) or \"You are not in risky group\" (if False)."
   ]
  },
  {
   "cell_type": "code",
   "execution_count": 30,
   "id": "1ab2c25d",
   "metadata": {},
   "outputs": [
    {
     "name": "stdout",
     "output_type": "stream",
     "text": [
      "are you a cigarette addict older than 75 years old?\n",
      "(Yes:1, No:0): 1\n",
      "Do you have a severe chronic disease?\n",
      "(Yes:1 / No:0):0\n",
      "Is your immune system too weak?\n",
      "(Yes:1 / No:0): 0\n",
      "Your risk of death: False\n"
     ]
    }
   ],
   "source": [
    "age = bool(int(input(\"Are you a cigarette addict older than 75 years old?\\n(Yes:1, No:0): \")))\n",
    "chronic = bool(int(input(\"Do you have a severe chronic disease?\\n(Yes:1 / No:0): \")))\n",
    "immune = bool(int(input(\"Is your immune system too weak?\\n(Yes:1 / No:0): \")))\n",
    "\n",
    "risk = (age and chronic or immune) and (age or chronic and immune) or (age and immune or chronic) and (age or immune and chronic)\n",
    "\n",
    "if risk:\n",
    "    print('Your risk of death: True')\n",
    "else:\n",
    "    print('Your risk of death: False')"
   ]
  },
  {
   "cell_type": "markdown",
   "id": "bd87ba82",
   "metadata": {},
   "source": [
    "# Assignment-11 (Python - Leap Years)\n",
    "Task:\n",
    "\n",
    "Find out if a given year is a \"leap\" year.\n",
    "\n",
    "In the Gregorian calendar, three criteria must be taken into account to identify leap years:\n",
    "The year must be evenly divisible by 4;\n",
    "If the year can also be evenly divided by 100, it is not a leap year; unless...\n",
    "The year is also evenly divisible by 400. Then it is a leap year.\n",
    "According to these rules, the years 2000 and 2400 are leap years, while 1800, 1900, 2100, 2200, 2300, and 2500 are not the leap years.\n",
    "Write a Python program that prints such as \"2020 is a leap year\" if the given year by the user is a leap year, prints such as \"2019 is not a leap year\" otherwise."
   ]
  },
  {
   "cell_type": "code",
   "execution_count": 57,
   "id": "59fe40e1",
   "metadata": {},
   "outputs": [
    {
     "name": "stdout",
     "output_type": "stream",
     "text": [
      "Enter Year: 2400\n",
      "2400 is leap year.\n"
     ]
    }
   ],
   "source": [
    "year = int(input('Enter Year: '))\n",
    "\n",
    "if year % 4 == 0 and year % 100 != 0:\n",
    "    print(f\"{year} is a leap year.\")\n",
    "elif year % 400 == 0:\n",
    "    print(f\"{year} is a leap year.\")\n",
    "else:\n",
    "    print(f\"{year} is a not leap year.\")"
   ]
  },
  {
   "cell_type": "markdown",
   "id": "c682a501",
   "metadata": {},
   "source": [
    "# Assignment-12 (Python - Is It an Armstrong Number?)\n",
    "Task:\n",
    "\n",
    "Find out if a given number is an \"Armstrong Number\".\n",
    "\n",
    "An n-digit number that is the sum of the nth powers of its digits is called an n-Armstrong number. Examples :\n",
    "371 = 33 + 73 + 13;\n",
    "9474 = 94 + 44 + 74 + 44;\n",
    "93084 = 95 + 35 + 05 + 85 + 45.\n",
    "\n",
    "Write a Python program that;\n",
    "takes a positive integer number from the user,\n",
    "checks the entered number if it is Armstrong,\n",
    "consider the negative entrie other than numeric values then display a warning message to the user."
   ]
  },
  {
   "cell_type": "code",
   "execution_count": 14,
   "id": "9def4fbd",
   "metadata": {},
   "outputs": [
    {
     "name": "stdout",
     "output_type": "stream",
     "text": [
      "Give me a Positive Integer Number: -8\n",
      "NUMBER IS NEGATIVE\n",
      "Give me a Positive Integer Number: -7\n",
      "NUMBER IS NEGATIVE\n",
      "Give me a Positive Integer Number: -6\n",
      "NUMBER IS NEGATIVE\n",
      "Give me a Positive Integer Number: 9\n",
      "It is Armstrong Number: 9 equal 9\n"
     ]
    }
   ],
   "source": [
    "new_num = 0\n",
    "\n",
    "\n",
    "while True:\n",
    "    num = int(input('Give me a Positive Integer Number: '))\n",
    "    num_str = str(num)\n",
    "    if num < 0:\n",
    "        print('NUMBER IS NEGATIVE')\n",
    "        continue\n",
    "    \n",
    "    if int(num) > 0:\n",
    "        for i in num_str:\n",
    "            append = pow(int(i), len(num_str))\n",
    "            new_num += append\n",
    "        if new_num == int(num):\n",
    "            print(f\"It is Armstrong Number: {new_num} equal {num}\")\n",
    "            break   \n",
    "        else:\n",
    "            print(f\"It is not Armstrong Number: {new_num} not equal {num}\")\n",
    "            break\n"
   ]
  },
  {
   "cell_type": "markdown",
   "id": "4d7a677e",
   "metadata": {},
   "source": [
    "# Assignment-13 (Python - Is it a Prime Number?)\n",
    "Task : Write a program that takes a number from the user and prints the result to check if it is a prime number.\n",
    "\n",
    "The examples of the desired output are as follows :\n",
    "\n",
    "input →  19 ⇉ output : 19 is a prime number\n",
    "\n",
    "input →  10 ⇉ output : 10 is not a prime number"
   ]
  },
  {
   "cell_type": "code",
   "execution_count": 2,
   "id": "976266b2",
   "metadata": {},
   "outputs": [
    {
     "name": "stdout",
     "output_type": "stream",
     "text": [
      "Enter a number: 8\n",
      "8 is not a prime number.\n",
      "Enter a number: 9\n",
      "9 is not a prime number.\n",
      "Enter a number: 10\n",
      "10 is not a prime number.\n",
      "Enter a number: 11\n",
      "11 is a prime number.\n"
     ]
    }
   ],
   "source": [
    "while True:\n",
    "    num = int(input('Enter a number: '))\n",
    "    if num <= 1:\n",
    "        print('Invalid number!')\n",
    "        continue\n",
    "    for i in range(2, num):\n",
    "        if num % i == 0:\n",
    "            print(f'{num} is not a prime number.')\n",
    "            break\n",
    "    else:\n",
    "        print(f'{num} is a prime number.')\n",
    "        break"
   ]
  },
  {
   "cell_type": "markdown",
   "id": "fea242fa",
   "metadata": {},
   "source": [
    "# Assignment-14 (Python - Fibonacci Numbers)\n",
    "Task : Create a list consisting of Fibonacci numbers from 1 to 55 using control flow statements and range() function."
   ]
  },
  {
   "cell_type": "code",
   "execution_count": 1,
   "id": "22e220df",
   "metadata": {},
   "outputs": [
    {
     "name": "stdout",
     "output_type": "stream",
     "text": [
      "How long is the Fibonacci sequence?: 10\n",
      "[1, 1, 2, 3, 5, 8, 13, 21, 34, 55]\n"
     ]
    }
   ],
   "source": [
    "fib_list = [1]\n",
    "num0 = 0\n",
    "num1 = 1\n",
    "ask = int(input('How long is the Fibonacci sequence?: '))\n",
    "\n",
    "for i in range(1,ask):\n",
    "    num3 = num0 + num1\n",
    "    num0 = num1\n",
    "    num1 = num3\n",
    "    fib_list.append(num3)\n",
    "print(fib_list)"
   ]
  },
  {
   "cell_type": "markdown",
   "id": "478c990d",
   "metadata": {},
   "source": [
    "# Assignment-15 (Python - Prime Numbers)\n",
    "Task : Print the prime numbers which are between 1 to entered limit number (n).\n",
    "\n",
    "You can use a nested for loop.\n",
    "\n",
    "Collect all these numbers into a list"
   ]
  },
  {
   "cell_type": "code",
   "execution_count": 1,
   "id": "6f480c70",
   "metadata": {},
   "outputs": [
    {
     "name": "stdout",
     "output_type": "stream",
     "text": [
      "Enter a number: 100\n",
      "[2, 3, 5, 7, 11, 13, 17, 19, 23, 29, 31, 37, 41, 43, 47, 53, 59, 61, 67, 71, 73, 79, 83, 89, 97]\n"
     ]
    }
   ],
   "source": [
    "ask = int(input('Enter a number: '))\n",
    "prime_list = []\n",
    "\n",
    "for num1 in range(2,ask):\n",
    "    for num2 in range(2,num1):\n",
    "        if num1 % num2 == 0:\n",
    "            break\n",
    "    else:\n",
    "        prime_list.append(num1)\n",
    "print(prime_list)"
   ]
  },
  {
   "cell_type": "code",
   "execution_count": null,
   "id": "2dd90800",
   "metadata": {},
   "outputs": [],
   "source": []
  },
  {
   "cell_type": "code",
   "execution_count": null,
   "id": "de5f8e51",
   "metadata": {},
   "outputs": [],
   "source": []
  },
  {
   "cell_type": "code",
   "execution_count": null,
   "id": "b1cfe52e",
   "metadata": {},
   "outputs": [],
   "source": []
  },
  {
   "cell_type": "code",
   "execution_count": null,
   "id": "19df0c0b",
   "metadata": {},
   "outputs": [],
   "source": []
  },
  {
   "cell_type": "code",
   "execution_count": null,
   "id": "23868cf6",
   "metadata": {},
   "outputs": [],
   "source": []
  },
  {
   "cell_type": "code",
   "execution_count": null,
   "id": "fe678517",
   "metadata": {},
   "outputs": [],
   "source": []
  },
  {
   "cell_type": "code",
   "execution_count": null,
   "id": "5a77e896",
   "metadata": {},
   "outputs": [],
   "source": []
  },
  {
   "cell_type": "code",
   "execution_count": null,
   "id": "6007a372",
   "metadata": {},
   "outputs": [],
   "source": []
  },
  {
   "cell_type": "code",
   "execution_count": null,
   "id": "c3140f10",
   "metadata": {},
   "outputs": [],
   "source": []
  }
 ],
 "metadata": {
  "kernelspec": {
   "display_name": "Python 3 (ipykernel)",
   "language": "python",
   "name": "python3"
  },
  "language_info": {
   "codemirror_mode": {
    "name": "ipython",
    "version": 3
   },
   "file_extension": ".py",
   "mimetype": "text/x-python",
   "name": "python",
   "nbconvert_exporter": "python",
   "pygments_lexer": "ipython3",
   "version": "3.9.12"
  }
 },
 "nbformat": 4,
 "nbformat_minor": 5
}
